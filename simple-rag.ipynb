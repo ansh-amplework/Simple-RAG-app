{
 "cells": [
  {
   "cell_type": "markdown",
   "id": "d18b7504",
   "metadata": {},
   "source": [
    "## Simple RAG Application"
   ]
  },
  {
   "cell_type": "markdown",
   "id": "650d51a8",
   "metadata": {},
   "source": [
    "### Document Loader"
   ]
  },
  {
   "cell_type": "code",
   "execution_count": null,
   "id": "ecee003b",
   "metadata": {},
   "outputs": [],
   "source": [
    "from langchain_community.document_loaders import WebBaseLoader\n",
    "import bs4\n",
    "urls = [\"https://transformer-circuits.pub/2025/attribution-graphs/biology.html\",\"https://transformer-circuits.pub/2025/attribution-graphs/biology.html#introduction\"]\n",
    "loader = WebBaseLoader(urls)\n",
    "text_document = loader.load()\n",
    "text_document[0]"
   ]
  },
  {
   "cell_type": "markdown",
   "id": "426b8c1d",
   "metadata": {},
   "source": [
    "### Loading API Keys"
   ]
  },
  {
   "cell_type": "code",
   "execution_count": 3,
   "id": "3135dfde",
   "metadata": {},
   "outputs": [],
   "source": [
    "from langchain_ollama import OllamaEmbeddings\n",
    "from langchain.text_splitter import RecursiveCharacterTextSplitter\n",
    "from dotenv import load_dotenv\n",
    "import os\n"
   ]
  },
  {
   "cell_type": "markdown",
   "id": "204122f4",
   "metadata": {},
   "source": [
    "### Splitting the Document Text"
   ]
  },
  {
   "cell_type": "code",
   "execution_count": 5,
   "id": "b9ef1597",
   "metadata": {},
   "outputs": [],
   "source": [
    "text_splitter = RecursiveCharacterTextSplitter(chunk_size=200,chunk_overlap=50)\n",
    "splitted_document = text_splitter.split_documents(text_document)\n",
    "# splitted_document[:5]"
   ]
  },
  {
   "cell_type": "markdown",
   "id": "c6db696f",
   "metadata": {},
   "source": [
    "### Embedding the Document in FAISS DB"
   ]
  },
  {
   "cell_type": "code",
   "execution_count": 6,
   "id": "76779452",
   "metadata": {},
   "outputs": [],
   "source": [
    "from langchain_community.vectorstores import Chroma\n",
    "embedder = OllamaEmbeddings(model=\"all-minilm\")\n",
    "db = Chroma.from_documents(\n",
    "    splitted_document,\n",
    "    embedder,\n",
    "    persist_directory=\"/rag_db\")"
   ]
  },
  {
   "cell_type": "markdown",
   "id": "b42bbae3",
   "metadata": {},
   "source": [
    "### Querying Vector Database"
   ]
  },
  {
   "cell_type": "code",
   "execution_count": null,
   "id": "b7c3d26c",
   "metadata": {},
   "outputs": [],
   "source": [
    "query = input(\"Ask the question within the context of information sources:\")\n",
    "result = db.similarity_search(query)\n",
    "# result[1].page_content\n",
    "result"
   ]
  },
  {
   "cell_type": "code",
   "execution_count": 6,
   "id": "f8580cdf",
   "metadata": {},
   "outputs": [],
   "source": [
    "retriever = db.as_retriever(search_kwargs={\"k\": 3})"
   ]
  },
  {
   "cell_type": "code",
   "execution_count": 7,
   "id": "f04c663b",
   "metadata": {},
   "outputs": [],
   "source": [
    "from transformers import pipeline\n",
    "from langchain.prompts import PromptTemplate\n",
    "from langchain_ollama import ChatOllama\n",
    "from langchain.chains import ConversationalRetrievalChain\n",
    "from langchain.memory import ConversationBufferMemory\n",
    "llm = ChatOllama(\n",
    "    model=\"gemma3:1b\",\n",
    "    temperature=0.3\n",
    ")"
   ]
  },
  {
   "cell_type": "code",
   "execution_count": null,
   "id": "abf42a92",
   "metadata": {},
   "outputs": [],
   "source": [
    "memory = ConversationBufferMemory(memory_key=\"chat_history\",return_messages=True)\n",
    "rag_chain = ConversationalRetrievalChain.from_llm(\n",
    "    llm = llm,\n",
    "    retriever = retriever,\n",
    "    memory = memory\n",
    ")\n",
    "while True:\n",
    "    query = input()\n",
    "    if query.lower == \"quit\":\n",
    "        break\n",
    "    else:\n",
    "        response = rag_chain.invoke(query)\n",
    "        print(response['answer'])"
   ]
  }
 ],
 "metadata": {
  "kernelspec": {
   "display_name": "Python 3",
   "language": "python",
   "name": "python3"
  },
  "language_info": {
   "codemirror_mode": {
    "name": "ipython",
    "version": 3
   },
   "file_extension": ".py",
   "mimetype": "text/x-python",
   "name": "python",
   "nbconvert_exporter": "python",
   "pygments_lexer": "ipython3",
   "version": "3.13.7"
  }
 },
 "nbformat": 4,
 "nbformat_minor": 5
}
